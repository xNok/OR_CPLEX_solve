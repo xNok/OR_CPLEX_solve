{
 "cells": [
  {
   "cell_type": "markdown",
   "metadata": {},
   "source": [
    "Title\n",
    "---"
   ]
  },
  {
   "cell_type": "markdown",
   "metadata": {},
   "source": [
    "# Formulation"
   ]
  },
  {
   "cell_type": "markdown",
   "metadata": {},
   "source": [
    "DESCRIPTION AND VARIABLES"
   ]
  },
  {
   "cell_type": "markdown",
   "metadata": {},
   "source": [
    "EQUATION"
   ]
  },
  {
   "cell_type": "markdown",
   "metadata": {},
   "source": [
    "EXPLANATION"
   ]
  },
  {
   "cell_type": "markdown",
   "metadata": {},
   "source": [
    "# Solve with Cplex"
   ]
  },
  {
   "cell_type": "code",
   "execution_count": null,
   "metadata": {},
   "outputs": [],
   "source": [
    "%%file \"./pkg/uflp_cplex.py\"\n",
    "\n",
    "import cplex_solve\n",
    "\n",
    "def uflp_cplex(I,J,\n",
    "            v,f,\n",
    "            relaxation=False,path=None,verbose=False):\n",
    "    \"\"\"\n",
    "    I,J number of customer and facilities\n",
    "    v,f cost matrices for variables cost and fixed cost\n",
    "    \"\"\"\n",
    "    #####################################################################\n",
    "    # Decision variables\n",
    "    \n",
    "    def X(i,j):\n",
    "        return \"X_\" + str(i) + \"_\" + str(j)\n",
    "    \n",
    "    #####################################################################\n",
    "    # Objective function\n",
    "    \n",
    "    Xs = {\n",
    "        \"name\" : [],\n",
    "        \"coef\" : [],\n",
    "        \"type\" : [],\n",
    "        \"ub\"   : [],\n",
    "        \"lb\"   : [],\n",
    "    }\n",
    "\n",
    "    variables = [Xs]\n",
    "    #####################################################################\n",
    "    # Constraints\n",
    "    \n",
    "    c1 = {\n",
    "        \"lin_expr\": [[[], []]\n",
    "                     ],\n",
    "        \"senses\"  : [],\n",
    "        \"rhs\"     : []\n",
    "    }\n",
    "    \n",
    "    constraints = [c1]\n",
    "    #####################################################################\n",
    "    # Solving\n",
    "    prob = cplex_solve.from_template(variables,constraints,\n",
    "                       minimize=True, path=path, verbose=verbose)\n",
    "\n",
    "    #####################################################################\n",
    "    # Extract solution\n",
    "    solution = prob.solution.get_values()\n",
    "\n",
    "    return prob"
   ]
  },
  {
   "cell_type": "code",
   "execution_count": null,
   "metadata": {
    "collapsed": true
   },
   "outputs": [],
   "source": []
  }
 ],
 "metadata": {
  "hide_input": false,
  "kernelspec": {
   "display_name": "Py35",
   "language": "python",
   "name": "py35"
  },
  "language_info": {
   "codemirror_mode": {
    "name": "ipython",
    "version": 3
   },
   "file_extension": ".py",
   "mimetype": "text/x-python",
   "name": "python",
   "nbconvert_exporter": "python",
   "pygments_lexer": "ipython3",
   "version": "3.5.3"
  },
  "toc": {
   "colors": {
    "hover_highlight": "#DAA520",
    "running_highlight": "#FF0000",
    "selected_highlight": "#FFD700"
   },
   "moveMenuLeft": true,
   "nav_menu": {
    "height": "66px",
    "width": "252px"
   },
   "navigate_menu": true,
   "number_sections": true,
   "sideBar": true,
   "threshold": 4,
   "toc_cell": false,
   "toc_section_display": "block",
   "toc_window_display": false,
   "widenNotebook": false
  }
 },
 "nbformat": 4,
 "nbformat_minor": 2
}
