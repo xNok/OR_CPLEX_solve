{
 "cells": [
  {
   "cell_type": "markdown",
   "metadata": {},
   "source": [
    "# From Matrices"
   ]
  },
  {
   "cell_type": "code",
   "execution_count": 1,
   "metadata": {
    "collapsed": true
   },
   "outputs": [],
   "source": [
    "import numpy as np\n",
    "%load_ext autoreload\n",
    "import cplex_solve"
   ]
  },
  {
   "cell_type": "code",
   "execution_count": 2,
   "metadata": {
    "collapsed": true
   },
   "outputs": [],
   "source": [
    "# Generate Random coefficient matrices\n",
    "n = 3\n",
    "c = np.random.random(n).tolist()\n",
    "A = np.random.random((n, n)).tolist()\n",
    "B = np.random.random(n).tolist()"
   ]
  },
  {
   "cell_type": "code",
   "execution_count": 3,
   "metadata": {
    "collapsed": true
   },
   "outputs": [],
   "source": [
    "prob = cplex_solve.from_matrices(c,A,B,\n",
    "    relaxation=True,path=None,verbose=False,minimize=False,senses=\"L\")"
   ]
  },
  {
   "cell_type": "code",
   "execution_count": 4,
   "metadata": {},
   "outputs": [
    {
     "data": {
      "text/plain": [
       "[0.0, 0.0, 0.21639690010475762]"
      ]
     },
     "execution_count": 4,
     "metadata": {},
     "output_type": "execute_result"
    }
   ],
   "source": [
    "prob.solution.get_values()"
   ]
  },
  {
   "cell_type": "markdown",
   "metadata": {},
   "source": [
    "# From Template"
   ]
  },
  {
   "cell_type": "markdown",
   "metadata": {},
   "source": [
    "We use the UFLP formulation to test the from_template function"
   ]
  },
  {
   "cell_type": "code",
   "execution_count": 5,
   "metadata": {
    "code_folding": [],
    "collapsed": true
   },
   "outputs": [],
   "source": [
    "def uflp_cplex(I,J,\n",
    "            c,f,\n",
    "            relaxation=False,path=None,verbose=False):\n",
    "    \"\"\"\n",
    "    I,J number of customer and facilities\n",
    "    v,f cost matrices for variables cost and fixed cost\n",
    "    \"\"\"\n",
    "    #####################################################################\n",
    "    # Decision variables\n",
    "    \n",
    "    def X(i,j):\n",
    "        return \"X_\" + str(i) + \"_\" + str(j)\n",
    "\n",
    "    def Z(j):\n",
    "        return \"Z_\" + str(j)\n",
    "    \n",
    "    I = range(I); J = range(J);\n",
    "    #####################################################################\n",
    "    # Objective function\n",
    "    \n",
    "    Xs = {\n",
    "        \"name\" : [X(i,j) for i in I for j in J],\n",
    "        \"coef\" : [c[i][j] for i in I for j in J],\n",
    "        \"type\" : [\"C\" if relaxation else \"I\" for i in I for j in J],\n",
    "        \"ub\"   : [1 for i in I for j in J],\n",
    "        \"lb\"   : [0 for i in I for j in J],\n",
    "    }\n",
    "    \n",
    "    Zs = {\n",
    "        \"name\" : [Z(j) for j in J],\n",
    "        \"coef\" : [f[j] for j in J],\n",
    "        \"type\" : [\"C\" if relaxation else \"I\" for j in J],\n",
    "        \"ub\"   : [1 for j in J],\n",
    "        \"lb\"   : [0 for j in J],\n",
    "    }\n",
    "    \n",
    "    variables = [Xs, Zs]\n",
    "    #####################################################################\n",
    "    # Constraints\n",
    "    \n",
    "    c1 = {\n",
    "        \"lin_expr\": [[[X(i,j) for j in J], [1 for j in J]]\n",
    "                     for i in I],\n",
    "        \"senses\"  : [\"E\" for i in I],\n",
    "        \"rhs\"     : [1 for i in I]\n",
    "    }\n",
    "    \n",
    "    c2 = {\n",
    "        \"lin_expr\": [[[X(i,j),Z(j)], [1,-1]]\n",
    "                     for i in I for j in J],\n",
    "        \"senses\"  : [\"L\" for i in I for j in J],\n",
    "        \"rhs\"     : [0 for i in I for j in J]\n",
    "    }\n",
    "    \n",
    "    constraints = [c1, c2]\n",
    "    #####################################################################\n",
    "    # Solving\n",
    "    prob = cplex_solve.from_template(variables,constraints,\n",
    "                       minimize=True, path=path, verbose=verbose)\n",
    "\n",
    "    #####################################################################\n",
    "    # Extract solution\n",
    "    solution = prob.solution.get_values()\n",
    "    I = len(I); J = len(J);\n",
    "    \n",
    "    X = np.reshape(solution[0:I*J],(I,J))\n",
    "    Z = solution[I*J:I*J+J]\n",
    "\n",
    "    return prob, X, Z"
   ]
  },
  {
   "cell_type": "code",
   "execution_count": 6,
   "metadata": {
    "collapsed": true,
    "run_control": {
     "marked": false
    }
   },
   "outputs": [],
   "source": [
    "# Generate a random facility location problem\n",
    "I = 5\n",
    "J = 3\n",
    "\n",
    "c = np.random.random((I, J)).tolist()\n",
    "f = np.random.random(J).tolist()"
   ]
  },
  {
   "cell_type": "code",
   "execution_count": 7,
   "metadata": {},
   "outputs": [
    {
     "data": {
      "text/plain": [
       "(<cplex.Cplex at 0x7550dd8>, array([[-0., -0.,  1.],\n",
       "        [ 1., -0., -0.],\n",
       "        [-0., -0.,  1.],\n",
       "        [ 1., -0., -0.],\n",
       "        [-0., -0.,  1.]]), [1.0, -0.0, 1.0])"
      ]
     },
     "execution_count": 7,
     "metadata": {},
     "output_type": "execute_result"
    }
   ],
   "source": [
    "uflp_cplex(I,J,\n",
    "            c,f,\n",
    "            relaxation=False,path=\"test.lp\",verbose=False)"
   ]
  },
  {
   "cell_type": "code",
   "execution_count": null,
   "metadata": {
    "collapsed": true
   },
   "outputs": [],
   "source": []
  }
 ],
 "metadata": {
  "hide_input": false,
  "kernelspec": {
   "display_name": "Py35",
   "language": "python",
   "name": "py35"
  },
  "language_info": {
   "codemirror_mode": {
    "name": "ipython",
    "version": 3
   },
   "file_extension": ".py",
   "mimetype": "text/x-python",
   "name": "python",
   "nbconvert_exporter": "python",
   "pygments_lexer": "ipython3",
   "version": "3.5.3"
  },
  "toc": {
   "colors": {
    "hover_highlight": "#DAA520",
    "running_highlight": "#FF0000",
    "selected_highlight": "#FFD700"
   },
   "moveMenuLeft": true,
   "nav_menu": {
    "height": "48px",
    "width": "252px"
   },
   "navigate_menu": true,
   "number_sections": true,
   "sideBar": true,
   "threshold": 4,
   "toc_cell": false,
   "toc_section_display": "block",
   "toc_window_display": false,
   "widenNotebook": false
  }
 },
 "nbformat": 4,
 "nbformat_minor": 2
}
